{
  "nbformat": 4,
  "nbformat_minor": 0,
  "metadata": {
    "colab": {
      "name": "gettingStartedWithTensorflow.ipynb",
      "version": "0.3.2",
      "provenance": [],
      "collapsed_sections": []
    },
    "kernelspec": {
      "name": "python3",
      "display_name": "Python 3"
    }
  },
  "cells": [
    {
      "metadata": {
        "id": "N9ggTQNeQ1UJ",
        "colab_type": "code",
        "colab": {}
      },
      "cell_type": "code",
      "source": [
        "import tensorflow as tf"
      ],
      "execution_count": 0,
      "outputs": []
    },
    {
      "metadata": {
        "id": "9WS2ewS0Y-jG",
        "colab_type": "text"
      },
      "cell_type": "markdown",
      "source": [
        "# Let's import the mnist dataset"
      ]
    },
    {
      "metadata": {
        "id": "mrwq7qXXRCah",
        "colab_type": "code",
        "colab": {}
      },
      "cell_type": "code",
      "source": [
        "(train_images, train_labels), (test_images, test_labels) = tf.keras.datasets.mnist.load_data()"
      ],
      "execution_count": 0,
      "outputs": []
    },
    {
      "metadata": {
        "id": "nR_ZHq5bRemY",
        "colab_type": "code",
        "outputId": "640a084d-c29c-4007-f64f-e4eb84204b1a",
        "colab": {
          "base_uri": "https://localhost:8080/",
          "height": 153
        }
      },
      "cell_type": "code",
      "source": [
        "print('Size of each image: '+str(train_images[1].shape))\n",
        "print('Size of the training dataset: '+str(train_images.shape[0]))\n",
        "print('Size of the testing dataset: '+str(test_images.shape[0]))\n",
        "print('')\n",
        "\n",
        "print('Shape of the training dataset: '+str(train_images.shape))\n",
        "print('Shape of the training labels: '+str(train_labels.shape))\n",
        "\n",
        "print('Shape of the testing dataset: '+str(test_images.shape))\n",
        "print('Shape of the testing labels: '+str(test_labels.shape))"
      ],
      "execution_count": 48,
      "outputs": [
        {
          "output_type": "stream",
          "text": [
            "Size of each image: (28, 28)\n",
            "Size of the training dataset: 60000\n",
            "Size of the testing dataset: 10000\n",
            "\n",
            "Shape of the training dataset: (60000, 28, 28)\n",
            "Shape of the training labels: (60000,)\n",
            "Shape of the testing dataset: (10000, 28, 28)\n",
            "Shape of the testing labels: (10000,)\n"
          ],
          "name": "stdout"
        }
      ]
    },
    {
      "metadata": {
        "id": "AbX7VmSyUOz7",
        "colab_type": "text"
      },
      "cell_type": "markdown",
      "source": [
        "# Now, let's define a model"
      ]
    },
    {
      "metadata": {
        "colab_type": "code",
        "id": "34h5QsUcA8yb",
        "colab": {}
      },
      "cell_type": "code",
      "source": [
        "model1 = tf.keras.Sequential()\n",
        "\n",
        "model1.add(tf.keras.layers.Flatten(input_shape=(28,28)))\n",
        "# model.add(tf.keras.layers.Dense(50, activation = tf.nn.relu))\n",
        "# model.add(tf.keras.layers.Dense(75, activation = tf.nn.relu))\n",
        "# model.add(tf.keras.layers.Dense(120, activation = tf.nn.relu))\n",
        "model1.add(tf.keras.layers.Dense(75, activation = tf.nn.relu))\n",
        "model1.add(tf.keras.layers.Dense(20, activation = tf.nn.relu))\n",
        "model1.add(tf.keras.layers.Dense(10, activation = tf.nn.softmax))\n"
      ],
      "execution_count": 0,
      "outputs": []
    },
    {
      "metadata": {
        "id": "GxVQudkuZKGe",
        "colab_type": "text"
      },
      "cell_type": "markdown",
      "source": [
        "**Then, we've got to define how the model compiles**"
      ]
    },
    {
      "metadata": {
        "colab_type": "code",
        "outputId": "744264f8-b847-40e2-83ed-e0b503987b1d",
        "id": "zsHt4BhIA8p8",
        "colab": {
          "base_uri": "https://localhost:8080/",
          "height": 34
        }
      },
      "cell_type": "code",
      "source": [
        "model1.compile(loss='sparse_categorical_crossentropy', metrics=['accuracy'], optimizer='adam')\n",
        "tf.keras.callbacks.EarlyStopping(monitor='val_loss', patience=2, mode='auto')\n",
        "\n",
        "# categorical_crossentropy -> cost/loss function\n",
        "# optimizer can also be adam"
      ],
      "execution_count": 86,
      "outputs": [
        {
          "output_type": "execute_result",
          "data": {
            "text/plain": [
              "<tensorflow.python.keras.callbacks.EarlyStopping at 0x7fc106a7af98>"
            ]
          },
          "metadata": {
            "tags": []
          },
          "execution_count": 86
        }
      ]
    },
    {
      "metadata": {
        "id": "F_BZlDLqax-w",
        "colab_type": "text"
      },
      "cell_type": "markdown",
      "source": [
        "# Now, let's train the model that we've defined"
      ]
    },
    {
      "metadata": {
        "colab_type": "code",
        "outputId": "fa20a58d-9488-4397-fc34-45df085cbaa9",
        "id": "3BugWA7-A847",
        "colab": {
          "base_uri": "https://localhost:8080/",
          "height": 1394
        }
      },
      "cell_type": "code",
      "source": [
        "model1.fit(train_images, train_labels, epochs=40)"
      ],
      "execution_count": 87,
      "outputs": [
        {
          "output_type": "stream",
          "text": [
            "Epoch 1/40\n",
            "60000/60000 [==============================] - 5s 82us/step - loss: 6.0254 - acc: 0.6176\n",
            "Epoch 2/40\n",
            "60000/60000 [==============================] - 4s 65us/step - loss: 4.7306 - acc: 0.7023\n",
            "Epoch 3/40\n",
            "60000/60000 [==============================] - 4s 65us/step - loss: 4.5460 - acc: 0.7153\n",
            "Epoch 4/40\n",
            "60000/60000 [==============================] - 4s 65us/step - loss: 4.5379 - acc: 0.7165\n",
            "Epoch 5/40\n",
            "60000/60000 [==============================] - 4s 65us/step - loss: 4.4256 - acc: 0.7237\n",
            "Epoch 6/40\n",
            "60000/60000 [==============================] - 4s 68us/step - loss: 4.3549 - acc: 0.7285\n",
            "Epoch 7/40\n",
            "60000/60000 [==============================] - 4s 70us/step - loss: 4.3278 - acc: 0.7303\n",
            "Epoch 8/40\n",
            "60000/60000 [==============================] - 4s 69us/step - loss: 4.3231 - acc: 0.7308\n",
            "Epoch 9/40\n",
            "60000/60000 [==============================] - 4s 69us/step - loss: 4.3424 - acc: 0.7294\n",
            "Epoch 10/40\n",
            "60000/60000 [==============================] - 4s 69us/step - loss: 4.2614 - acc: 0.7348\n",
            "Epoch 11/40\n",
            "60000/60000 [==============================] - 4s 68us/step - loss: 4.1769 - acc: 0.7401\n",
            "Epoch 12/40\n",
            "60000/60000 [==============================] - 4s 68us/step - loss: 4.2200 - acc: 0.7375\n",
            "Epoch 13/40\n",
            "60000/60000 [==============================] - 4s 68us/step - loss: 4.2370 - acc: 0.7362\n",
            "Epoch 14/40\n",
            "60000/60000 [==============================] - 4s 65us/step - loss: 4.1800 - acc: 0.7401\n",
            "Epoch 15/40\n",
            "60000/60000 [==============================] - 4s 66us/step - loss: 4.1584 - acc: 0.7414\n",
            "Epoch 16/40\n",
            "60000/60000 [==============================] - 4s 67us/step - loss: 4.2448 - acc: 0.7361\n",
            "Epoch 17/40\n",
            "60000/60000 [==============================] - 4s 66us/step - loss: 4.2033 - acc: 0.7386\n",
            "Epoch 18/40\n",
            "60000/60000 [==============================] - 4s 66us/step - loss: 4.1717 - acc: 0.7406\n",
            "Epoch 19/40\n",
            "60000/60000 [==============================] - 4s 65us/step - loss: 4.2843 - acc: 0.7338\n",
            "Epoch 20/40\n",
            "60000/60000 [==============================] - 4s 66us/step - loss: 4.2048 - acc: 0.7387\n",
            "Epoch 21/40\n",
            "60000/60000 [==============================] - 4s 65us/step - loss: 4.2735 - acc: 0.7344\n",
            "Epoch 22/40\n",
            "60000/60000 [==============================] - 4s 66us/step - loss: 4.1245 - acc: 0.7438\n",
            "Epoch 23/40\n",
            "60000/60000 [==============================] - 4s 66us/step - loss: 4.2403 - acc: 0.7364\n",
            "Epoch 24/40\n",
            "60000/60000 [==============================] - 4s 66us/step - loss: 4.2012 - acc: 0.7388\n",
            "Epoch 25/40\n",
            "60000/60000 [==============================] - 4s 65us/step - loss: 4.1487 - acc: 0.7423\n",
            "Epoch 26/40\n",
            "60000/60000 [==============================] - 4s 66us/step - loss: 4.1400 - acc: 0.7429\n",
            "Epoch 27/40\n",
            "60000/60000 [==============================] - 4s 66us/step - loss: 4.1259 - acc: 0.7436\n",
            "Epoch 28/40\n",
            "60000/60000 [==============================] - 4s 66us/step - loss: 4.1104 - acc: 0.7446\n",
            "Epoch 29/40\n",
            "60000/60000 [==============================] - 4s 68us/step - loss: 4.1214 - acc: 0.7440\n",
            "Epoch 30/40\n",
            "60000/60000 [==============================] - 4s 69us/step - loss: 4.1976 - acc: 0.7392\n",
            "Epoch 31/40\n",
            "60000/60000 [==============================] - 4s 68us/step - loss: 4.2432 - acc: 0.7363\n",
            "Epoch 32/40\n",
            "60000/60000 [==============================] - 4s 65us/step - loss: 4.3255 - acc: 0.7315\n",
            "Epoch 33/40\n",
            "60000/60000 [==============================] - 4s 65us/step - loss: 4.1823 - acc: 0.7403\n",
            "Epoch 34/40\n",
            "60000/60000 [==============================] - 4s 65us/step - loss: 4.1238 - acc: 0.7439\n",
            "Epoch 35/40\n",
            "60000/60000 [==============================] - 4s 65us/step - loss: 4.1754 - acc: 0.7407\n",
            "Epoch 36/40\n",
            "60000/60000 [==============================] - 4s 66us/step - loss: 4.1672 - acc: 0.7413\n",
            "Epoch 37/40\n",
            "60000/60000 [==============================] - 4s 65us/step - loss: 4.1340 - acc: 0.7434\n",
            "Epoch 38/40\n",
            "60000/60000 [==============================] - 4s 67us/step - loss: 4.1362 - acc: 0.7430\n",
            "Epoch 39/40\n",
            "60000/60000 [==============================] - 4s 65us/step - loss: 4.1992 - acc: 0.7392\n",
            "Epoch 40/40\n",
            "60000/60000 [==============================] - 4s 66us/step - loss: 4.1505 - acc: 0.7423\n"
          ],
          "name": "stdout"
        },
        {
          "output_type": "execute_result",
          "data": {
            "text/plain": [
              "<tensorflow.python.keras.callbacks.History at 0x7fc106bc1208>"
            ]
          },
          "metadata": {
            "tags": []
          },
          "execution_count": 87
        }
      ]
    },
    {
      "metadata": {
        "id": "WiCj8_dJgqjs",
        "colab_type": "text"
      },
      "cell_type": "markdown",
      "source": [
        "# Then, we evaluate the model that we've just trained"
      ]
    },
    {
      "metadata": {
        "id": "bMgsjTl4VTtU",
        "colab_type": "code",
        "outputId": "faf73e50-3b6c-48a5-d3c6-82320f415051",
        "colab": {
          "base_uri": "https://localhost:8080/",
          "height": 85
        }
      },
      "cell_type": "code",
      "source": [
        "test_loss, test_accuracy = model1.evaluate(test_images, test_labels)\n",
        "train_loss, train_accuracy = model1.evaluate(train_images, train_labels)\n",
        "\n",
        "print('Accuracy on the test set: '+str(test_accuracy))\n",
        "print('Accuracy on the train set: '+str(train_accuracy))"
      ],
      "execution_count": 72,
      "outputs": [
        {
          "output_type": "stream",
          "text": [
            "10000/10000 [==============================] - 1s 69us/step\n",
            "60000/60000 [==============================] - 2s 29us/step\n",
            "Accuracy on the test set: 0.9643\n",
            "Accuracy on the train set: 0.9907\n"
          ],
          "name": "stdout"
        }
      ]
    },
    {
      "metadata": {
        "id": "OKSOjgU3JZtn",
        "colab_type": "code",
        "colab": {}
      },
      "cell_type": "code",
      "source": [
        "predictions = model1.predict(test_images)"
      ],
      "execution_count": 0,
      "outputs": []
    },
    {
      "metadata": {
        "id": "py4vLGaXSW-N",
        "colab_type": "code",
        "outputId": "910731ca-7046-4f7d-e0e4-04b45f9540f5",
        "colab": {
          "base_uri": "https://localhost:8080/",
          "height": 381
        }
      },
      "cell_type": "code",
      "source": [
        "toShow = 122\n",
        "\n",
        "print('Predictions: '+str(predictions[toShow]))\n",
        "\n",
        "import pandas as pd\n",
        "import matplotlib.pyplot as plt\n",
        "\n",
        "plt.imshow(test_images[toShow], cmap='binary')"
      ],
      "execution_count": 90,
      "outputs": [
        {
          "output_type": "stream",
          "text": [
            "Predictions: [0. 0. 0. 0. 0. 0. 0. 1. 0. 0.]\n"
          ],
          "name": "stdout"
        },
        {
          "output_type": "execute_result",
          "data": {
            "text/plain": [
              "<matplotlib.image.AxesImage at 0x7fc105de2f28>"
            ]
          },
          "metadata": {
            "tags": []
          },
          "execution_count": 90
        },
        {
          "output_type": "display_data",
          "data": {
            "image/png": "[encoded data removed]",
            "text/plain": [
              "<matplotlib.figure.Figure at 0x7fc1066a8390>"
            ]
          },
          "metadata": {
            "tags": []
          }
        }
      ]
    }
  ]
}