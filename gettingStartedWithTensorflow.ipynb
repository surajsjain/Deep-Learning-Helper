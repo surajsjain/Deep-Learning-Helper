{
  "nbformat": 4,
  "nbformat_minor": 0,
  "metadata": {
    "colab": {
      "name": "gettingStartedWithTensorflow.ipynb",
      "version": "0.3.2",
      "provenance": [],
      "collapsed_sections": []
    },
    "kernelspec": {
      "name": "python3",
      "display_name": "Python 3"
    }
  },
  "cells": [
    {
      "metadata": {
        "id": "N9ggTQNeQ1UJ",
        "colab_type": "code",
        "colab": {}
      },
      "cell_type": "code",
      "source": [
        "import tensorflow as tf"
      ],
      "execution_count": 0,
      "outputs": []
    },
    {
      "metadata": {
        "id": "9WS2ewS0Y-jG",
        "colab_type": "text"
      },
      "cell_type": "markdown",
      "source": [
        "# Let's import the mnist dataset"
      ]
    },
    {
      "metadata": {
        "id": "mrwq7qXXRCah",
        "colab_type": "code",
        "colab": {}
      },
      "cell_type": "code",
      "source": [
        "(train_images, train_labels), (test_images, test_labels) = tf.keras.datasets.mnist.load_data()"
      ],
      "execution_count": 0,
      "outputs": []
    },
    {
      "metadata": {
        "id": "nR_ZHq5bRemY",
        "colab_type": "code",
        "outputId": "640a084d-c29c-4007-f64f-e4eb84204b1a",
        "colab": {
          "base_uri": "https://localhost:8080/",
          "height": 153
        }
      },
      "cell_type": "code",
      "source": [
        "print('Size of each image: '+str(train_images[1].shape))\n",
        "print('Size of the training dataset: '+str(train_images.shape[0]))\n",
        "print('Size of the testing dataset: '+str(test_images.shape[0]))\n",
        "print('')\n",
        "\n",
        "print('Shape of the training dataset: '+str(train_images.shape))\n",
        "print('Shape of the training labels: '+str(train_labels.shape))\n",
        "\n",
        "print('Shape of the testing dataset: '+str(test_images.shape))\n",
        "print('Shape of the testing labels: '+str(test_labels.shape))"
      ],
      "execution_count": 48,
      "outputs": [
        {
          "output_type": "stream",
          "text": [
            "Size of each image: (28, 28)\n",
            "Size of the training dataset: 60000\n",
            "Size of the testing dataset: 10000\n",
            "\n",
            "Shape of the training dataset: (60000, 28, 28)\n",
            "Shape of the training labels: (60000,)\n",
            "Shape of the testing dataset: (10000, 28, 28)\n",
            "Shape of the testing labels: (10000,)\n"
          ],
          "name": "stdout"
        }
      ]
    },
    {
      "metadata": {
        "id": "AbX7VmSyUOz7",
        "colab_type": "text"
      },
      "cell_type": "markdown",
      "source": [
        "# Now, let's define a model"
      ]
    },
    {
      "metadata": {
        "colab_type": "code",
        "id": "34h5QsUcA8yb",
        "colab": {}
      },
      "cell_type": "code",
      "source": [
        "model1 = tf.keras.Sequential()\n",
        "\n",
        "model1.add(tf.keras.layers.Flatten(input_shape=(28,28)))\n",
        "# model.add(tf.keras.layers.Dense(50, activation = tf.nn.relu))\n",
        "# model.add(tf.keras.layers.Dense(75, activation = tf.nn.relu))\n",
        "# model.add(tf.keras.layers.Dense(120, activation = tf.nn.relu))\n",
        "model1.add(tf.keras.layers.Dense(75, activation = tf.nn.relu))\n",
        "model1.add(tf.keras.layers.Dense(20, activation = tf.nn.relu))\n",
        "model1.add(tf.keras.layers.Dense(20, activation = tf.nn.relu))\n",
        "model1.add(tf.keras.layers.Dense(10, activation = tf.nn.softmax))\n"
      ],
      "execution_count": 0,
      "outputs": []
    },
    {
      "metadata": {
        "id": "GxVQudkuZKGe",
        "colab_type": "text"
      },
      "cell_type": "markdown",
      "source": [
        "**Then, we've got to define how the model compiles**"
      ]
    },
    {
      "metadata": {
        "colab_type": "code",
        "outputId": "0732d683-4ea2-43ee-d0fb-091dad06763f",
        "id": "zsHt4BhIA8p8",
        "colab": {
          "base_uri": "https://localhost:8080/",
          "height": 34
        }
      },
      "cell_type": "code",
      "source": [
        "model1.compile(loss='sparse_categorical_crossentropy', metrics=['accuracy'], optimizer='adam')\n",
        "tf.keras.callbacks.EarlyStopping(monitor='val_loss', patience=2, mode='auto')\n",
        "\n",
        "# categorical_crossentropy -> cost/loss function\n",
        "# optimizer can also be adam"
      ],
      "execution_count": 92,
      "outputs": [
        {
          "output_type": "execute_result",
          "data": {
            "text/plain": [
              "<tensorflow.python.keras.callbacks.EarlyStopping at 0x7fc105e11d68>"
            ]
          },
          "metadata": {
            "tags": []
          },
          "execution_count": 92
        }
      ]
    },
    {
      "metadata": {
        "id": "F_BZlDLqax-w",
        "colab_type": "text"
      },
      "cell_type": "markdown",
      "source": [
        "# Now, let's train the model that we've defined"
      ]
    },
    {
      "metadata": {
        "colab_type": "code",
        "outputId": "ecd65b32-1f4d-4070-c5d2-e7820724b923",
        "id": "3BugWA7-A847",
        "colab": {
          "base_uri": "https://localhost:8080/",
          "height": 1479
        }
      },
      "cell_type": "code",
      "source": [
        "model1.fit(train_images, train_labels, epochs=40)"
      ],
      "execution_count": 93,
      "outputs": [
        {
          "output_type": "stream",
          "text": [
            "Exception ignored in: <bound method ScopedTFStatus.__del__ of <tensorflow.python.framework.c_api_util.ScopedTFStatus object at 0x7fc1093479b0>>\n",
            "Traceback (most recent call last):\n",
            "  File \"/usr/local/lib/python3.6/dist-packages/tensorflow/python/framework/c_api_util.py\", line 39, in __del__\n",
            "    c_api.TF_DeleteStatus(self.status)\n",
            "AttributeError: 'ScopedTFStatus' object has no attribute 'status'\n"
          ],
          "name": "stderr"
        },
        {
          "output_type": "stream",
          "text": [
            "Epoch 1/40\n",
            "60000/60000 [==============================] - 5s 91us/step - loss: 2.5307 - acc: 0.6248\n",
            "Epoch 2/40\n",
            "60000/60000 [==============================] - 4s 71us/step - loss: 0.5450 - acc: 0.8252\n",
            "Epoch 3/40\n",
            "60000/60000 [==============================] - 4s 70us/step - loss: 0.2880 - acc: 0.9260\n",
            "Epoch 4/40\n",
            "60000/60000 [==============================] - 4s 70us/step - loss: 0.2091 - acc: 0.9453\n",
            "Epoch 5/40\n",
            "60000/60000 [==============================] - 4s 70us/step - loss: 0.1750 - acc: 0.9550\n",
            "Epoch 6/40\n",
            "60000/60000 [==============================] - 4s 70us/step - loss: 0.1515 - acc: 0.9606\n",
            "Epoch 7/40\n",
            "60000/60000 [==============================] - 4s 68us/step - loss: 0.1414 - acc: 0.9625\n",
            "Epoch 8/40\n",
            "60000/60000 [==============================] - 4s 68us/step - loss: 0.1198 - acc: 0.9683\n",
            "Epoch 9/40\n",
            "60000/60000 [==============================] - 4s 67us/step - loss: 0.1164 - acc: 0.9691\n",
            "Epoch 10/40\n",
            "60000/60000 [==============================] - 4s 67us/step - loss: 0.1063 - acc: 0.9715\n",
            "Epoch 11/40\n",
            "60000/60000 [==============================] - 4s 67us/step - loss: 0.0996 - acc: 0.9738\n",
            "Epoch 12/40\n",
            "60000/60000 [==============================] - 4s 67us/step - loss: 0.0924 - acc: 0.9753\n",
            "Epoch 13/40\n",
            "60000/60000 [==============================] - 4s 67us/step - loss: 0.0889 - acc: 0.9766\n",
            "Epoch 14/40\n",
            "60000/60000 [==============================] - 4s 67us/step - loss: 0.0815 - acc: 0.9773\n",
            "Epoch 15/40\n",
            "60000/60000 [==============================] - 4s 66us/step - loss: 0.0759 - acc: 0.9793\n",
            "Epoch 16/40\n",
            "60000/60000 [==============================] - 4s 66us/step - loss: 0.0810 - acc: 0.9784\n",
            "Epoch 17/40\n",
            "60000/60000 [==============================] - 4s 67us/step - loss: 0.0722 - acc: 0.9813\n",
            "Epoch 18/40\n",
            "60000/60000 [==============================] - 4s 67us/step - loss: 0.0676 - acc: 0.9818\n",
            "Epoch 19/40\n",
            "60000/60000 [==============================] - 4s 67us/step - loss: 0.0637 - acc: 0.9833\n",
            "Epoch 20/40\n",
            "60000/60000 [==============================] - 4s 67us/step - loss: 0.0647 - acc: 0.9826\n",
            "Epoch 21/40\n",
            "60000/60000 [==============================] - 4s 67us/step - loss: 0.0610 - acc: 0.9839\n",
            "Epoch 22/40\n",
            "60000/60000 [==============================] - 4s 67us/step - loss: 0.0578 - acc: 0.9849\n",
            "Epoch 23/40\n",
            "60000/60000 [==============================] - 4s 67us/step - loss: 0.0576 - acc: 0.9847\n",
            "Epoch 24/40\n",
            "60000/60000 [==============================] - 4s 67us/step - loss: 0.0564 - acc: 0.9857\n",
            "Epoch 25/40\n",
            "60000/60000 [==============================] - 4s 66us/step - loss: 0.0531 - acc: 0.9860\n",
            "Epoch 26/40\n",
            "60000/60000 [==============================] - 4s 67us/step - loss: 0.0513 - acc: 0.9862\n",
            "Epoch 27/40\n",
            "60000/60000 [==============================] - 4s 66us/step - loss: 0.0479 - acc: 0.9869\n",
            "Epoch 28/40\n",
            "60000/60000 [==============================] - 4s 66us/step - loss: 0.0468 - acc: 0.9878\n",
            "Epoch 29/40\n",
            "60000/60000 [==============================] - 4s 67us/step - loss: 0.0450 - acc: 0.9881\n",
            "Epoch 30/40\n",
            "60000/60000 [==============================] - 4s 67us/step - loss: 0.0448 - acc: 0.9883\n",
            "Epoch 31/40\n",
            "60000/60000 [==============================] - 4s 67us/step - loss: 0.0456 - acc: 0.9880\n",
            "Epoch 32/40\n",
            "60000/60000 [==============================] - 4s 70us/step - loss: 0.0389 - acc: 0.9903\n",
            "Epoch 33/40\n",
            "60000/60000 [==============================] - 4s 69us/step - loss: 0.0446 - acc: 0.9882\n",
            "Epoch 34/40\n",
            "60000/60000 [==============================] - 4s 68us/step - loss: 0.0384 - acc: 0.9899\n",
            "Epoch 35/40\n",
            "60000/60000 [==============================] - 4s 66us/step - loss: 0.0398 - acc: 0.9900\n",
            "Epoch 36/40\n",
            "60000/60000 [==============================] - 4s 67us/step - loss: 0.0445 - acc: 0.9883\n",
            "Epoch 37/40\n",
            "60000/60000 [==============================] - 4s 66us/step - loss: 0.0348 - acc: 0.9912\n",
            "Epoch 38/40\n",
            "60000/60000 [==============================] - 4s 67us/step - loss: 0.0342 - acc: 0.9909\n",
            "Epoch 39/40\n",
            "60000/60000 [==============================] - 4s 67us/step - loss: 0.0371 - acc: 0.9910\n",
            "Epoch 40/40\n",
            "60000/60000 [==============================] - 4s 67us/step - loss: 0.0342 - acc: 0.9912\n"
          ],
          "name": "stdout"
        },
        {
          "output_type": "execute_result",
          "data": {
            "text/plain": [
              "<tensorflow.python.keras.callbacks.History at 0x7fc108e28860>"
            ]
          },
          "metadata": {
            "tags": []
          },
          "execution_count": 93
        }
      ]
    },
    {
      "metadata": {
        "id": "WiCj8_dJgqjs",
        "colab_type": "text"
      },
      "cell_type": "markdown",
      "source": [
        "# Then, we evaluate the model that we've just trained"
      ]
    },
    {
      "metadata": {
        "id": "bMgsjTl4VTtU",
        "colab_type": "code",
        "outputId": "d16f74a8-8c4e-43da-ceb7-8018470b902a",
        "colab": {
          "base_uri": "https://localhost:8080/",
          "height": 85
        }
      },
      "cell_type": "code",
      "source": [
        "test_loss, test_accuracy = model1.evaluate(test_images, test_labels)\n",
        "train_loss, train_accuracy = model1.evaluate(train_images, train_labels)\n",
        "\n",
        "print('Accuracy on the test set: '+str(test_accuracy))\n",
        "print('Accuracy on the train set: '+str(train_accuracy))"
      ],
      "execution_count": 94,
      "outputs": [
        {
          "output_type": "stream",
          "text": [
            "10000/10000 [==============================] - 1s 83us/step\n",
            "60000/60000 [==============================] - 2s 31us/step\n",
            "Accuracy on the test set: 0.9717\n",
            "Accuracy on the train set: 0.9929\n"
          ],
          "name": "stdout"
        }
      ]
    },
    {
      "metadata": {
        "id": "OKSOjgU3JZtn",
        "colab_type": "code",
        "colab": {
          "base_uri": "https://localhost:8080/",
          "height": 238
        },
        "outputId": "4d7829c8-119e-41d6-f571-5ab71e126981"
      },
      "cell_type": "code",
      "source": [
        "predictions = model1.predict(test_images)\n",
        "print(str(predictions))"
      ],
      "execution_count": 99,
      "outputs": [
        {
          "output_type": "stream",
          "text": [
            "[[4.2815151e-09 1.8919345e-04 7.5696578e-04 ... 9.9722677e-01\n",
            "  1.1662396e-06 1.3287566e-03]\n",
            " [1.6060690e-04 1.9255211e-03 9.9419618e-01 ... 1.1071920e-03\n",
            "  9.8495604e-04 1.7892936e-04]\n",
            " [9.2914355e-20 1.0000000e+00 1.2413482e-15 ... 1.5185703e-25\n",
            "  2.7728412e-08 8.0822758e-20]\n",
            " ...\n",
            " [1.2526242e-34 1.1055953e-15 1.8049404e-36 ... 9.5905803e-13\n",
            "  0.0000000e+00 1.8372238e-11]\n",
            " [2.4946084e-14 9.7422127e-19 6.2666195e-35 ... 1.4130152e-23\n",
            "  4.9143545e-13 2.1048531e-11]\n",
            " [2.2615534e-22 1.9476100e-23 0.0000000e+00 ... 0.0000000e+00\n",
            "  5.6359833e-23 0.0000000e+00]]\n"
          ],
          "name": "stdout"
        }
      ]
    },
    {
      "metadata": {
        "id": "py4vLGaXSW-N",
        "colab_type": "code",
        "outputId": "3a0fc3c2-7bb6-4908-ec80-57e6f83ac567",
        "colab": {
          "base_uri": "https://localhost:8080/",
          "height": 381
        }
      },
      "cell_type": "code",
      "source": [
        "import numpy as np\n",
        "toShow = 122\n",
        "\n",
        "print('Prediction: '+str(np.argmax(predictions[toShow])))\n",
        "\n",
        "import matplotlib.pyplot as plt\n",
        "\n",
        "plt.imshow(test_images[toShow], cmap='binary')"
      ],
      "execution_count": 106,
      "outputs": [
        {
          "output_type": "stream",
          "text": [
            "Prediction: 7\n"
          ],
          "name": "stdout"
        },
        {
          "output_type": "execute_result",
          "data": {
            "text/plain": [
              "<matplotlib.image.AxesImage at 0x7fc10571de80>"
            ]
          },
          "metadata": {
            "tags": []
          },
          "execution_count": 106
        },
        {
          "output_type": "display_data",
          "data": {
            "image/png": "[encoded data removed]",
            "text/plain": [
              "<matplotlib.figure.Figure at 0x7fc10579dac8>"
            ]
          },
          "metadata": {
            "tags": []
          }
        }
      ]
    }
  ]
}