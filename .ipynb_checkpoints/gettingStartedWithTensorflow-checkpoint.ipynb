{
 "cells": [
  {
   "cell_type": "code",
   "execution_count": 1,
   "metadata": {
    "colab": {},
    "colab_type": "code",
    "id": "N9ggTQNeQ1UJ"
   },
   "outputs": [],
   "source": [
    "import tensorflow as tf"
   ]
  },
  {
   "cell_type": "markdown",
   "metadata": {
    "colab_type": "text",
    "id": "9WS2ewS0Y-jG"
   },
   "source": [
    "# Let's import the mnist dataset"
   ]
  },
  {
   "cell_type": "code",
   "execution_count": 2,
   "metadata": {
    "colab": {},
    "colab_type": "code",
    "id": "mrwq7qXXRCah"
   },
   "outputs": [],
   "source": [
    "(train_images, train_labels), (test_images, test_labels) = tf.keras.datasets.mnist.load_data()"
   ]
  },
  {
   "cell_type": "code",
   "execution_count": 3,
   "metadata": {
    "colab": {
     "base_uri": "https://localhost:8080/",
     "height": 153
    },
    "colab_type": "code",
    "id": "nR_ZHq5bRemY",
    "outputId": "640a084d-c29c-4007-f64f-e4eb84204b1a"
   },
   "outputs": [
    {
     "name": "stdout",
     "output_type": "stream",
     "text": [
      "Size of each image: (28, 28)\n",
      "Size of the training dataset: 60000\n",
      "Size of the testing dataset: 10000\n",
      "\n",
      "Shape of the training dataset: (60000, 28, 28)\n",
      "Shape of the training labels: (60000,)\n",
      "Shape of the testing dataset: (10000, 28, 28)\n",
      "Shape of the testing labels: (10000,)\n"
     ]
    }
   ],
   "source": [
    "print('Size of each image: '+str(train_images[1].shape))\n",
    "print('Size of the training dataset: '+str(train_images.shape[0]))\n",
    "print('Size of the testing dataset: '+str(test_images.shape[0]))\n",
    "print('')\n",
    "\n",
    "print('Shape of the training dataset: '+str(train_images.shape))\n",
    "print('Shape of the training labels: '+str(train_labels.shape))\n",
    "\n",
    "print('Shape of the testing dataset: '+str(test_images.shape))\n",
    "print('Shape of the testing labels: '+str(test_labels.shape))"
   ]
  },
  {
   "cell_type": "markdown",
   "metadata": {
    "colab_type": "text",
    "id": "AbX7VmSyUOz7"
   },
   "source": [
    "# Now, let's define a model"
   ]
  },
  {
   "cell_type": "code",
   "execution_count": 4,
   "metadata": {
    "colab": {},
    "colab_type": "code",
    "id": "34h5QsUcA8yb"
   },
   "outputs": [],
   "source": [
    "model1 = tf.keras.Sequential()\n",
    "\n",
    "model1.add(tf.keras.layers.Flatten(input_shape=(28,28)))\n",
    "# model.add(tf.keras.layers.Dense(50, activation = tf.nn.relu))\n",
    "# model.add(tf.keras.layers.Dense(75, activation = tf.nn.relu))\n",
    "# model.add(tf.keras.layers.Dense(120, activation = tf.nn.relu))\n",
    "model1.add(tf.keras.layers.Dense(75, activation = tf.nn.relu))\n",
    "model1.add(tf.keras.layers.Dense(20, activation = tf.nn.relu))\n",
    "model1.add(tf.keras.layers.Dense(20, activation = tf.nn.relu))\n",
    "model1.add(tf.keras.layers.Dense(10, activation = tf.nn.softmax))\n"
   ]
  },
  {
   "cell_type": "markdown",
   "metadata": {
    "colab_type": "text",
    "id": "GxVQudkuZKGe"
   },
   "source": [
    "**Then, we've got to define how the model compiles**"
   ]
  },
  {
   "cell_type": "code",
   "execution_count": 5,
   "metadata": {
    "colab": {
     "base_uri": "https://localhost:8080/",
     "height": 34
    },
    "colab_type": "code",
    "id": "zsHt4BhIA8p8",
    "outputId": "0732d683-4ea2-43ee-d0fb-091dad06763f"
   },
   "outputs": [
    {
     "data": {
      "text/plain": [
       "<tensorflow.python.keras.callbacks.EarlyStopping at 0x7f7d0af3c898>"
      ]
     },
     "execution_count": 5,
     "metadata": {},
     "output_type": "execute_result"
    }
   ],
   "source": [
    "model1.compile(loss='sparse_categorical_crossentropy', metrics=['accuracy'], optimizer='adam')\n",
    "tf.keras.callbacks.EarlyStopping(monitor='val_loss', patience=2, mode='auto')\n",
    "\n",
    "# categorical_crossentropy -> cost/loss function\n",
    "# optimizer can also be adam"
   ]
  },
  {
   "cell_type": "markdown",
   "metadata": {
    "colab_type": "text",
    "id": "F_BZlDLqax-w"
   },
   "source": [
    "# Now, let's train the model that we've defined"
   ]
  },
  {
   "cell_type": "code",
   "execution_count": 6,
   "metadata": {
    "colab": {
     "base_uri": "https://localhost:8080/",
     "height": 1479
    },
    "colab_type": "code",
    "id": "3BugWA7-A847",
    "outputId": "ecd65b32-1f4d-4070-c5d2-e7820724b923"
   },
   "outputs": [
    {
     "name": "stdout",
     "output_type": "stream",
     "text": [
      "Epoch 1/40\n",
      "60000/60000 [==============================] - 4s 69us/step - loss: 7.3744 - acc: 0.5316\n",
      "Epoch 2/40\n",
      "60000/60000 [==============================] - 4s 61us/step - loss: 1.7467 - acc: 0.6165\n",
      "Epoch 3/40\n",
      "60000/60000 [==============================] - 4s 62us/step - loss: 0.6008 - acc: 0.8200\n",
      "Epoch 4/40\n",
      "60000/60000 [==============================] - 4s 62us/step - loss: 0.3508 - acc: 0.9128\n",
      "Epoch 5/40\n",
      "60000/60000 [==============================] - 4s 60us/step - loss: 0.2607 - acc: 0.9356\n",
      "Epoch 6/40\n",
      "60000/60000 [==============================] - 4s 61us/step - loss: 0.2083 - acc: 0.9473\n",
      "Epoch 7/40\n",
      "60000/60000 [==============================] - 4s 61us/step - loss: 0.1859 - acc: 0.9540\n",
      "Epoch 8/40\n",
      "60000/60000 [==============================] - 4s 61us/step - loss: 0.1601 - acc: 0.9598\n",
      "Epoch 9/40\n",
      "60000/60000 [==============================] - 4s 61us/step - loss: 0.1432 - acc: 0.9641\n",
      "Epoch 10/40\n",
      "60000/60000 [==============================] - 4s 60us/step - loss: 0.1242 - acc: 0.9676\n",
      "Epoch 11/40\n",
      "60000/60000 [==============================] - 4s 63us/step - loss: 0.1204 - acc: 0.9697\n",
      "Epoch 12/40\n",
      "60000/60000 [==============================] - 4s 60us/step - loss: 0.1124 - acc: 0.9720\n",
      "Epoch 13/40\n",
      "60000/60000 [==============================] - 4s 61us/step - loss: 0.1031 - acc: 0.9736\n",
      "Epoch 14/40\n",
      "60000/60000 [==============================] - 4s 60us/step - loss: 0.0917 - acc: 0.9764\n",
      "Epoch 15/40\n",
      "60000/60000 [==============================] - 4s 61us/step - loss: 0.0855 - acc: 0.9772\n",
      "Epoch 16/40\n",
      "60000/60000 [==============================] - 4s 60us/step - loss: 0.0779 - acc: 0.9790\n",
      "Epoch 17/40\n",
      "60000/60000 [==============================] - 4s 61us/step - loss: 0.0778 - acc: 0.9797\n",
      "Epoch 18/40\n",
      "60000/60000 [==============================] - 4s 60us/step - loss: 0.0703 - acc: 0.9817\n",
      "Epoch 19/40\n",
      "60000/60000 [==============================] - 4s 60us/step - loss: 0.0654 - acc: 0.9825\n",
      "Epoch 20/40\n",
      "60000/60000 [==============================] - 4s 61us/step - loss: 0.0610 - acc: 0.9832\n",
      "Epoch 21/40\n",
      "60000/60000 [==============================] - 4s 61us/step - loss: 0.0594 - acc: 0.9836\n",
      "Epoch 22/40\n",
      "60000/60000 [==============================] - 4s 61us/step - loss: 0.0576 - acc: 0.9849\n",
      "Epoch 23/40\n",
      "60000/60000 [==============================] - 4s 61us/step - loss: 0.0534 - acc: 0.9851\n",
      "Epoch 24/40\n",
      "60000/60000 [==============================] - 4s 61us/step - loss: 0.0468 - acc: 0.9872\n",
      "Epoch 25/40\n",
      "60000/60000 [==============================] - 4s 61us/step - loss: 0.0525 - acc: 0.9860\n",
      "Epoch 26/40\n",
      "60000/60000 [==============================] - 4s 61us/step - loss: 0.0480 - acc: 0.9867\n",
      "Epoch 27/40\n",
      "60000/60000 [==============================] - 4s 61us/step - loss: 0.0479 - acc: 0.9865\n",
      "Epoch 28/40\n",
      "60000/60000 [==============================] - 4s 61us/step - loss: 0.0450 - acc: 0.9878\n",
      "Epoch 29/40\n",
      "60000/60000 [==============================] - 4s 61us/step - loss: 0.0460 - acc: 0.9876\n",
      "Epoch 30/40\n",
      "60000/60000 [==============================] - 3s 57us/step - loss: 0.0405 - acc: 0.9886\n",
      "Epoch 31/40\n",
      "60000/60000 [==============================] - 3s 56us/step - loss: 0.0413 - acc: 0.9887\n",
      "Epoch 32/40\n",
      "60000/60000 [==============================] - 3s 57us/step - loss: 0.0389 - acc: 0.9891\n",
      "Epoch 33/40\n",
      "60000/60000 [==============================] - 3s 57us/step - loss: 0.0387 - acc: 0.9894\n",
      "Epoch 34/40\n",
      "60000/60000 [==============================] - 3s 57us/step - loss: 0.0368 - acc: 0.9902\n",
      "Epoch 35/40\n",
      "60000/60000 [==============================] - 3s 56us/step - loss: 0.0349 - acc: 0.9903\n",
      "Epoch 36/40\n",
      "60000/60000 [==============================] - 3s 56us/step - loss: 0.0380 - acc: 0.9892\n",
      "Epoch 37/40\n",
      "60000/60000 [==============================] - 3s 56us/step - loss: 0.0396 - acc: 0.9895\n",
      "Epoch 38/40\n",
      "60000/60000 [==============================] - 3s 57us/step - loss: 0.0355 - acc: 0.9908\n",
      "Epoch 39/40\n",
      "60000/60000 [==============================] - 3s 57us/step - loss: 0.0312 - acc: 0.9915\n",
      "Epoch 40/40\n",
      "60000/60000 [==============================] - 3s 57us/step - loss: 0.0349 - acc: 0.9906\n"
     ]
    },
    {
     "data": {
      "text/plain": [
       "<tensorflow.python.keras.callbacks.History at 0x7f7d408ee438>"
      ]
     },
     "execution_count": 6,
     "metadata": {},
     "output_type": "execute_result"
    }
   ],
   "source": [
    "model1.fit(train_images, train_labels, epochs=40)"
   ]
  },
  {
   "cell_type": "markdown",
   "metadata": {
    "colab_type": "text",
    "id": "WiCj8_dJgqjs"
   },
   "source": [
    "# Then, we evaluate the model that we've just trained"
   ]
  },
  {
   "cell_type": "code",
   "execution_count": 7,
   "metadata": {
    "colab": {
     "base_uri": "https://localhost:8080/",
     "height": 85
    },
    "colab_type": "code",
    "id": "bMgsjTl4VTtU",
    "outputId": "d16f74a8-8c4e-43da-ceb7-8018470b902a"
   },
   "outputs": [
    {
     "name": "stdout",
     "output_type": "stream",
     "text": [
      "10000/10000 [==============================] - 0s 26us/step\n",
      "60000/60000 [==============================] - 2s 25us/step\n",
      "Accuracy on the test set: 0.9717\n",
      "Accuracy on the train set: 0.9934833333333334\n"
     ]
    }
   ],
   "source": [
    "test_loss, test_accuracy = model1.evaluate(test_images, test_labels)\n",
    "train_loss, train_accuracy = model1.evaluate(train_images, train_labels)\n",
    "\n",
    "print('Accuracy on the test set: '+str(test_accuracy))\n",
    "print('Accuracy on the train set: '+str(train_accuracy))"
   ]
  },
  {
   "cell_type": "code",
   "execution_count": 8,
   "metadata": {
    "colab": {
     "base_uri": "https://localhost:8080/",
     "height": 238
    },
    "colab_type": "code",
    "id": "OKSOjgU3JZtn",
    "outputId": "4d7829c8-119e-41d6-f571-5ab71e126981"
   },
   "outputs": [
    {
     "name": "stdout",
     "output_type": "stream",
     "text": [
      "[[4.8330958e-07 1.1981560e-08 7.7482007e-05 ... 9.9991202e-01\n",
      "  4.0084407e-12 8.4044223e-06]\n",
      " [1.0285953e-12 6.1381310e-18 1.0000000e+00 ... 1.1043849e-12\n",
      "  3.8539710e-11 1.8181629e-25]\n",
      " [2.3821050e-23 1.0000000e+00 4.2149597e-31 ... 5.8186016e-09\n",
      "  1.2811413e-26 1.7245284e-20]\n",
      " ...\n",
      " [0.0000000e+00 1.0140078e-18 1.0776974e-27 ... 7.6488345e-23\n",
      "  6.9534467e-34 1.1078262e-19]\n",
      " [2.7933269e-22 1.0101246e-13 2.7547285e-34 ... 0.0000000e+00\n",
      "  3.3159147e-09 2.1676072e-16]\n",
      " [3.5139342e-16 1.9806325e-19 1.1289030e-30 ... 1.4737607e-15\n",
      "  6.3937145e-24 1.2423542e-27]]\n"
     ]
    }
   ],
   "source": [
    "predictions = model1.predict(test_images)\n",
    "print(str(predictions))"
   ]
  },
  {
   "cell_type": "code",
   "execution_count": 14,
   "metadata": {
    "colab": {
     "base_uri": "https://localhost:8080/",
     "height": 381
    },
    "colab_type": "code",
    "id": "py4vLGaXSW-N",
    "outputId": "3a0fc3c2-7bb6-4908-ec80-57e6f83ac567"
   },
   "outputs": [
    {
     "name": "stdout",
     "output_type": "stream",
     "text": [
      "Prediction: 1\n"
     ]
    },
    {
     "data": {
      "text/plain": [
       "<matplotlib.image.AxesImage at 0x7f7cb5f19860>"
      ]
     },
     "execution_count": 14,
     "metadata": {},
     "output_type": "execute_result"
    },
    {
     "data": {
      "image/png": "[encoded data removed]",
      "text/plain": [
       "<Figure size 432x288 with 1 Axes>"
      ]
     },
     "metadata": {
      "needs_background": "light"
     },
     "output_type": "display_data"
    }
   ],
   "source": [
    "import numpy as np\n",
    "toShow = 145\n",
    "\n",
    "print('Prediction: '+str(np.argmax(predictions[toShow])))\n",
    "\n",
    "import matplotlib.pyplot as plt\n",
    "\n",
    "plt.imshow(test_images[toShow], cmap='binary')"
   ]
  },
  {
   "cell_type": "markdown",
   "metadata": {},
   "source": [
    "#### Now, let's save the model that we've trained in a json file"
   ]
  },
  {
   "cell_type": "code",
   "execution_count": null,
   "metadata": {},
   "outputs": [],
   "source": []
  }
 ],
 "metadata": {
  "colab": {
   "collapsed_sections": [],
   "name": "gettingStartedWithTensorflow.ipynb",
   "provenance": [],
   "version": "0.3.2"
  },
  "kernelspec": {
   "display_name": "Python 3",
   "language": "python",
   "name": "python3"
  },
  "language_info": {
   "codemirror_mode": {
    "name": "ipython",
    "version": 3
   },
   "file_extension": ".py",
   "mimetype": "text/x-python",
   "name": "python",
   "nbconvert_exporter": "python",
   "pygments_lexer": "ipython3",
   "version": "3.6.6"
  }
 },
 "nbformat": 4,
 "nbformat_minor": 1
}
